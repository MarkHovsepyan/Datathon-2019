{
  "nbformat": 4,
  "nbformat_minor": 0,
  "metadata": {
    "colab": {
      "name": "datathon.ipynb",
      "provenance": [],
      "collapsed_sections": [
        "TgX93ut43bPH",
        "7l1fm3y24M4E"
      ]
    },
    "kernelspec": {
      "name": "python3",
      "display_name": "Python 3"
    },
    "accelerator": "GPU"
  },
  "cells": [
    {
      "cell_type": "markdown",
      "metadata": {
        "id": "cupFnQxb7Ssk",
        "colab_type": "text"
      },
      "source": [
        "# Imports"
      ]
    },
    {
      "cell_type": "code",
      "metadata": {
        "id": "OaE5C6LFK9ac",
        "colab_type": "code",
        "colab": {}
      },
      "source": [
        "import os\n",
        "import sys\n",
        "import numpy as np\n",
        "import pandas as pd\n",
        "import re\n",
        "from tqdm import tqdm\n",
        "from google.colab import drive"
      ],
      "execution_count": 0,
      "outputs": []
    },
    {
      "cell_type": "code",
      "metadata": {
        "id": "k552pkbUB5TV",
        "colab_type": "code",
        "colab": {}
      },
      "source": [
        "import warnings\n",
        "warnings.filterwarnings('ignore')"
      ],
      "execution_count": 0,
      "outputs": []
    },
    {
      "cell_type": "markdown",
      "metadata": {
        "id": "rPD3xiu56sTP",
        "colab_type": "text"
      },
      "source": [
        "# Data Gathering"
      ]
    },
    {
      "cell_type": "code",
      "metadata": {
        "id": "JwfT92YNLIop",
        "colab_type": "code",
        "outputId": "b835080a-f199-4338-f75b-57d50964fc2b",
        "colab": {
          "base_uri": "https://localhost:8080/",
          "height": 125
        }
      },
      "source": [
        "drive.mount('/content/drive')"
      ],
      "execution_count": 3,
      "outputs": [
        {
          "output_type": "stream",
          "text": [
            "Go to this URL in a browser: https://accounts.google.com/o/oauth2/auth?client_id=947318989803-6bn6qk8qdgf4n4g3pfee6491hc0brc4i.apps.googleusercontent.com&redirect_uri=urn%3aietf%3awg%3aoauth%3a2.0%3aoob&response_type=code&scope=email%20https%3a%2f%2fwww.googleapis.com%2fauth%2fdocs.test%20https%3a%2f%2fwww.googleapis.com%2fauth%2fdrive%20https%3a%2f%2fwww.googleapis.com%2fauth%2fdrive.photos.readonly%20https%3a%2f%2fwww.googleapis.com%2fauth%2fpeopleapi.readonly\n",
            "\n",
            "Enter your authorization code:\n",
            "··········\n",
            "Mounted at /content/drive\n"
          ],
          "name": "stdout"
        }
      ]
    },
    {
      "cell_type": "code",
      "metadata": {
        "id": "BF7_xyDELMXy",
        "colab_type": "code",
        "colab": {}
      },
      "source": [
        "data_path = 'drive/My Drive/dna_data/Download'"
      ],
      "execution_count": 0,
      "outputs": []
    },
    {
      "cell_type": "code",
      "metadata": {
        "id": "L2vQbMpwkspw",
        "colab_type": "code",
        "colab": {}
      },
      "source": [
        "def process(lines=None):\n",
        "  ks = ['id', 'sequence', 'optional', 'quality']\n",
        "  return {k: v for k, v in zip(ks, lines)}"
      ],
      "execution_count": 0,
      "outputs": []
    },
    {
      "cell_type": "code",
      "metadata": {
        "id": "6SZ7GQpWk3qE",
        "colab_type": "code",
        "colab": {}
      },
      "source": [
        "def read_fq(file_path):\n",
        "  fastq_list = []\n",
        "  n = 4\n",
        "  with open(file_path, 'r') as fh:\n",
        "    lines = []\n",
        "    for line in fh:\n",
        "      lines.append(line.rstrip())\n",
        "      if len(lines) == n:\n",
        "        record = process(lines)\n",
        "        fastq_list.append(record)\n",
        "        lines = []\n",
        "        \n",
        "  return fastq_list"
      ],
      "execution_count": 0,
      "outputs": []
    },
    {
      "cell_type": "code",
      "metadata": {
        "id": "JuLwyHTQqoCK",
        "colab_type": "code",
        "colab": {}
      },
      "source": [
        "def dir_to_df(dir_path):\n",
        "  directory = os.fsencode(dir_path)\n",
        "  files_list = []\n",
        "\n",
        "  for file in os.listdir(directory):\n",
        "    filename = os.fsdecode(file)\n",
        "    if filename.endswith(\".fq\"):   \n",
        "      files_list.append(read_fq(dir_path + '/' + filename)) \n",
        "    else:\n",
        "      continue\n",
        "\n",
        "  df = pd.DataFrame({'id' : [], 'sequence': [], 'optional': [], 'quality': []})\n",
        "\n",
        "  for element in files_list:\n",
        "    temp_df = pd.DataFrame(element)\n",
        "    df = df.append(temp_df, ignore_index = True)\n",
        "\n",
        "  return df"
      ],
      "execution_count": 0,
      "outputs": []
    },
    {
      "cell_type": "code",
      "metadata": {
        "id": "a2QkVAVTw9lf",
        "colab_type": "code",
        "colab": {}
      },
      "source": [
        "telomeric = dir_to_df(data_path + '/Labeled/telomeric')"
      ],
      "execution_count": 0,
      "outputs": []
    },
    {
      "cell_type": "code",
      "metadata": {
        "id": "OOzWnfMApY5u",
        "colab_type": "code",
        "outputId": "224de3ae-d65e-47cb-cdbc-16d0a4fa82fa",
        "colab": {
          "base_uri": "https://localhost:8080/",
          "height": 34
        }
      },
      "source": [
        "telomeric.shape"
      ],
      "execution_count": 123,
      "outputs": [
        {
          "output_type": "execute_result",
          "data": {
            "text/plain": [
              "(180000, 4)"
            ]
          },
          "metadata": {
            "tags": []
          },
          "execution_count": 123
        }
      ]
    },
    {
      "cell_type": "code",
      "metadata": {
        "id": "nHFLMqVxmbWW",
        "colab_type": "code",
        "colab": {}
      },
      "source": [
        "non_telomeric = dir_to_df(data_path + '/Labeled/non-telomeric')"
      ],
      "execution_count": 0,
      "outputs": []
    },
    {
      "cell_type": "code",
      "metadata": {
        "id": "jn0l_L_C1lgh",
        "colab_type": "code",
        "outputId": "e9cbeac7-9195-4ab5-80c5-c04d3fd2b6ac",
        "colab": {
          "base_uri": "https://localhost:8080/",
          "height": 34
        }
      },
      "source": [
        "non_telomeric.shape"
      ],
      "execution_count": 125,
      "outputs": [
        {
          "output_type": "execute_result",
          "data": {
            "text/plain": [
              "(405545, 4)"
            ]
          },
          "metadata": {
            "tags": []
          },
          "execution_count": 125
        }
      ]
    },
    {
      "cell_type": "code",
      "metadata": {
        "id": "SMjLNmH-m1Qd",
        "colab_type": "code",
        "colab": {}
      },
      "source": [
        "telomeric.drop(columns=['optional', 'quality'], inplace=True)\n",
        "telomeric['is_telomeric'] = 1\n",
        "non_telomeric.drop(columns=['optional', 'quality'], inplace=True)\n",
        "non_telomeric['is_telomeric'] = 0"
      ],
      "execution_count": 0,
      "outputs": []
    },
    {
      "cell_type": "code",
      "metadata": {
        "id": "Onx7Ldtq8bVA",
        "colab_type": "code",
        "colab": {}
      },
      "source": [
        "# undersampling with the size of telomeric dataset\n",
        "# non_telomeric.sample(frac=1).reset_index(drop=True)\n",
        "# non_telomeric = non_telomeric[:telomeric.shape[0]]\n",
        "# print('non_telomeric :', non_telomeric.shape)"
      ],
      "execution_count": 0,
      "outputs": []
    },
    {
      "cell_type": "code",
      "metadata": {
        "id": "7tki91dUnSyX",
        "colab_type": "code",
        "colab": {}
      },
      "source": [
        "both_data = telomeric.append(non_telomeric, ignore_index = True)"
      ],
      "execution_count": 0,
      "outputs": []
    },
    {
      "cell_type": "code",
      "metadata": {
        "id": "qrthqaiV2Bmn",
        "colab_type": "code",
        "outputId": "7d72d799-f4f2-4c32-ff99-c25b09e4d55b",
        "colab": {
          "base_uri": "https://localhost:8080/",
          "height": 34
        }
      },
      "source": [
        "both_data.shape"
      ],
      "execution_count": 169,
      "outputs": [
        {
          "output_type": "execute_result",
          "data": {
            "text/plain": [
              "(585545, 3)"
            ]
          },
          "metadata": {
            "tags": []
          },
          "execution_count": 169
        }
      ]
    },
    {
      "cell_type": "code",
      "metadata": {
        "id": "yYrB7V0J2H7M",
        "colab_type": "code",
        "colab": {}
      },
      "source": [
        "# shuffle dataset\n",
        "both_data = both_data.sample(frac=1).reset_index(drop=True)"
      ],
      "execution_count": 0,
      "outputs": []
    },
    {
      "cell_type": "code",
      "metadata": {
        "id": "U3iouAeH3MIq",
        "colab_type": "code",
        "colab": {}
      },
      "source": [
        "# both_data.head(20)"
      ],
      "execution_count": 0,
      "outputs": []
    },
    {
      "cell_type": "markdown",
      "metadata": {
        "id": "_Cs4hjxi7M5-",
        "colab_type": "text"
      },
      "source": [
        "# Data Preprocessing"
      ]
    },
    {
      "cell_type": "markdown",
      "metadata": {
        "id": "TgX93ut43bPH",
        "colab_type": "text"
      },
      "source": [
        "##K-mers method"
      ]
    },
    {
      "cell_type": "code",
      "metadata": {
        "id": "PGt8dMv39nE0",
        "colab_type": "code",
        "colab": {}
      },
      "source": [
        "# k-mers counting method\n",
        "def getKmers(sequence, size=6):\n",
        "  return [sequence[x:x+size].lower() for x in range(len(sequence) - size + 1)]"
      ],
      "execution_count": 0,
      "outputs": []
    },
    {
      "cell_type": "code",
      "metadata": {
        "id": "hUIVUlpb9f6l",
        "colab_type": "code",
        "colab": {}
      },
      "source": [
        "both_data['words'] = both_data.apply(lambda x: getKmers(x['sequence']), axis=1)\n",
        "both_data = both_data.drop('sequence', axis=1)"
      ],
      "execution_count": 0,
      "outputs": []
    },
    {
      "cell_type": "code",
      "metadata": {
        "id": "NbuAJElcFvuz",
        "colab_type": "code",
        "colab": {}
      },
      "source": [
        "gene_texts = list(both_data['words'])\n",
        "for item in range(len(gene_texts)):\n",
        "  gene_texts[item] = ' '.join(gene_texts[item])\n",
        "\n",
        "y = both_data.iloc[:, 1].values  "
      ],
      "execution_count": 0,
      "outputs": []
    },
    {
      "cell_type": "code",
      "metadata": {
        "id": "i79u737oHPiL",
        "colab_type": "code",
        "colab": {}
      },
      "source": [
        "from sklearn.feature_extraction.text import CountVectorizer\n",
        "cv = CountVectorizer(ngram_range=(4, 4))\n",
        "X = cv.fit_transform(gene_texts)"
      ],
      "execution_count": 0,
      "outputs": []
    },
    {
      "cell_type": "markdown",
      "metadata": {
        "id": "_-b_P1aT3gUn",
        "colab_type": "text"
      },
      "source": [
        "##Vectorized"
      ]
    },
    {
      "cell_type": "code",
      "metadata": {
        "id": "-GBohuJ1A-1X",
        "colab_type": "code",
        "colab": {}
      },
      "source": [
        "from tensorflow.keras.preprocessing.text import Tokenizer\n",
        "from tensorflow.keras.preprocessing.sequence import pad_sequences"
      ],
      "execution_count": 0,
      "outputs": []
    },
    {
      "cell_type": "code",
      "metadata": {
        "id": "SgOwqFzH2GY7",
        "colab_type": "code",
        "colab": {}
      },
      "source": [
        "def tokenize_pad(df, vocab_size, max_len):\n",
        "  vocab = vocab_size\n",
        "  tokenizer = Tokenizer(num_words=vocab, char_level=True, oov_token='dummy')\n",
        "  tokenizer.fit_on_texts(df)\n",
        "  tokenized_seqs = tokenizer.texts_to_sequences(df)\n",
        "  padded_seqs = pad_sequences(tokenized_seqs, padding='post', maxlen=max_len)\n",
        "\n",
        "  return padded_seqs"
      ],
      "execution_count": 0,
      "outputs": []
    },
    {
      "cell_type": "code",
      "metadata": {
        "id": "nXc0zcBY48Qq",
        "colab_type": "code",
        "colab": {}
      },
      "source": [
        "X_train = tokenize_pad(both_data['sequence'], 5, 250)"
      ],
      "execution_count": 0,
      "outputs": []
    },
    {
      "cell_type": "code",
      "metadata": {
        "id": "qBfNWabIsssi",
        "colab_type": "code",
        "outputId": "d3423d1b-c0a9-4aa8-8b95-11b651fb23b6",
        "colab": {
          "base_uri": "https://localhost:8080/",
          "height": 34
        }
      },
      "source": [
        "X_train.shape"
      ],
      "execution_count": 174,
      "outputs": [
        {
          "output_type": "execute_result",
          "data": {
            "text/plain": [
              "(585545, 250)"
            ]
          },
          "metadata": {
            "tags": []
          },
          "execution_count": 174
        }
      ]
    },
    {
      "cell_type": "code",
      "metadata": {
        "id": "A3pGuwOKEbLV",
        "colab_type": "code",
        "colab": {}
      },
      "source": [
        "y_train = both_data['is_telomeric']"
      ],
      "execution_count": 0,
      "outputs": []
    },
    {
      "cell_type": "markdown",
      "metadata": {
        "id": "RdocfgB9Yz_L",
        "colab_type": "text"
      },
      "source": [
        "Test Data Preprocessing"
      ]
    },
    {
      "cell_type": "code",
      "metadata": {
        "id": "orlQdAuexId-",
        "colab_type": "code",
        "colab": {}
      },
      "source": [
        "test_class_df = pd.DataFrame(read_fq(data_path + '/Test/test_tel_no-tel.fq'))"
      ],
      "execution_count": 0,
      "outputs": []
    },
    {
      "cell_type": "code",
      "metadata": {
        "id": "Af8RpzJNxIpe",
        "colab_type": "code",
        "colab": {}
      },
      "source": [
        "test_class = tokenize_pad(test_class_df['sequence'], 5, 250)"
      ],
      "execution_count": 0,
      "outputs": []
    },
    {
      "cell_type": "code",
      "metadata": {
        "id": "-lmzy-AuxItC",
        "colab_type": "code",
        "outputId": "80047b22-0dfe-4c0a-b37c-49bd14442f20",
        "colab": {
          "base_uri": "https://localhost:8080/",
          "height": 34
        }
      },
      "source": [
        "test_class.shape"
      ],
      "execution_count": 36,
      "outputs": [
        {
          "output_type": "execute_result",
          "data": {
            "text/plain": [
              "(146890, 250)"
            ]
          },
          "metadata": {
            "tags": []
          },
          "execution_count": 36
        }
      ]
    },
    {
      "cell_type": "code",
      "metadata": {
        "id": "vwHqlfv-Tb6g",
        "colab_type": "code",
        "colab": {}
      },
      "source": [
        "test_mixed_df = pd.DataFrame(read_fq(data_path + '/Labeled/mixed/file_227_hs10_100bp_10x_chr1@tel1-3087_tel2-3437.fq'))\n",
        "test_mixed_test_df = pd.DataFrame(read_fq(data_path + '/Test/test_mixed/file_001_hs10_100bp_10x_chr1.fq'))"
      ],
      "execution_count": 0,
      "outputs": []
    },
    {
      "cell_type": "code",
      "metadata": {
        "id": "sHypZH87YRGc",
        "colab_type": "code",
        "colab": {}
      },
      "source": [
        "test_mixed = tokenize_pad(test_mixed_df['sequence'], 5, 250)\n",
        "test_mixed_test = tokenize_pad(test_mixed_test_df['sequence'], 5, 250)"
      ],
      "execution_count": 0,
      "outputs": []
    },
    {
      "cell_type": "code",
      "metadata": {
        "id": "CkN23rCyZGZB",
        "colab_type": "code",
        "outputId": "cc21717d-c43a-4757-c2e8-7577eea93338",
        "colab": {
          "base_uri": "https://localhost:8080/",
          "height": 34
        }
      },
      "source": [
        "print(test_mixed.shape, test_mixed_test.shape)"
      ],
      "execution_count": 149,
      "outputs": [
        {
          "output_type": "stream",
          "text": [
            "(23600, 250) (23620, 250)\n"
          ],
          "name": "stdout"
        }
      ]
    },
    {
      "cell_type": "code",
      "metadata": {
        "id": "e1GgSnXXLhcQ",
        "colab_type": "code",
        "colab": {}
      },
      "source": [
        "# from sklearn.model_selection import train_test_split\n",
        "# X_train, X_test, y_train, y_test = train_test_split(padded_seqs, \n",
        "#                                                     y, \n",
        "#                                                     test_size = 0.20, \n",
        "#                                                     random_state=42)"
      ],
      "execution_count": 0,
      "outputs": []
    },
    {
      "cell_type": "code",
      "metadata": {
        "id": "udeYsEf9MI4o",
        "colab_type": "code",
        "colab": {}
      },
      "source": [
        "# print(X_train.shape, X_test.shape, y_train.shape, y_test.shape)"
      ],
      "execution_count": 0,
      "outputs": []
    },
    {
      "cell_type": "markdown",
      "metadata": {
        "id": "JauVFCHgL4YP",
        "colab_type": "text"
      },
      "source": [
        "# Models"
      ]
    },
    {
      "cell_type": "markdown",
      "metadata": {
        "id": "7l1fm3y24M4E",
        "colab_type": "text"
      },
      "source": [
        "##Naive Bayes"
      ]
    },
    {
      "cell_type": "code",
      "metadata": {
        "id": "MCU0oEyPufvb",
        "colab_type": "code",
        "colab": {}
      },
      "source": [
        " X_train, X_test, y_train, y_test = train_test_split(X, \n",
        "                                                    y, \n",
        "                                                    test_size = 0.20, \n",
        "                                                    random_state=42)"
      ],
      "execution_count": 0,
      "outputs": []
    },
    {
      "cell_type": "code",
      "metadata": {
        "id": "TzDg0EpVH2rC",
        "colab_type": "code",
        "outputId": "b04a8413-d5fc-43e8-845d-64df7670316c",
        "colab": {
          "base_uri": "https://localhost:8080/",
          "height": 34
        }
      },
      "source": [
        "from sklearn.naive_bayes import MultinomialNB\n",
        "classifier = MultinomialNB(alpha=0.1)\n",
        "classifier.fit(X_train, y_train)"
      ],
      "execution_count": 0,
      "outputs": [
        {
          "output_type": "execute_result",
          "data": {
            "text/plain": [
              "MultinomialNB(alpha=0.1, class_prior=None, fit_prior=True)"
            ]
          },
          "metadata": {
            "tags": []
          },
          "execution_count": 93
        }
      ]
    },
    {
      "cell_type": "code",
      "metadata": {
        "id": "wHLoNJNgLy3O",
        "colab_type": "code",
        "colab": {}
      },
      "source": [
        "y_pred = classifier.predict(X_test)"
      ],
      "execution_count": 0,
      "outputs": []
    },
    {
      "cell_type": "code",
      "metadata": {
        "id": "tNHUGyCsK_0e",
        "colab_type": "code",
        "outputId": "0461f1cf-c8f6-4e61-9581-034f98066316",
        "colab": {
          "base_uri": "https://localhost:8080/",
          "height": 187
        }
      },
      "source": [
        "from sklearn.metrics import accuracy_score, f1_score, precision_score, recall_score\n",
        "print(\"Confusion matrix\\n\")\n",
        "print(pd.crosstab(pd.Series(y_test, name='Actual'), pd.Series(y_pred, name='Predicted')))\n",
        "def get_metrics(y_test, y_predicted):\n",
        "    accuracy = accuracy_score(y_test, y_predicted)\n",
        "    precision = precision_score(y_test, y_predicted, average='weighted')\n",
        "    recall = recall_score(y_test, y_predicted, average='weighted')\n",
        "    f1 = f1_score(y_test, y_predicted, average='weighted')\n",
        "    return accuracy, precision, recall, f1\n",
        "accuracy, precision, recall, f1 = get_metrics(y_test, y_pred)\n",
        "print(\"accuracy = %.3f \\nprecision = %.3f \\nrecall = %.3f \\nf1 = %.3f\" % (accuracy, precision, recall, f1))"
      ],
      "execution_count": 0,
      "outputs": [
        {
          "output_type": "stream",
          "text": [
            "Confusion matrix\n",
            "\n",
            "Predicted      0      1\n",
            "Actual                 \n",
            "0          35860      0\n",
            "1              0  36140\n",
            "accuracy = 1.000 \n",
            "precision = 1.000 \n",
            "recall = 1.000 \n",
            "f1 = 1.000\n"
          ],
          "name": "stdout"
        }
      ]
    },
    {
      "cell_type": "markdown",
      "metadata": {
        "id": "TWZ00XDy4Kc1",
        "colab_type": "text"
      },
      "source": [
        "##RNN"
      ]
    },
    {
      "cell_type": "code",
      "metadata": {
        "id": "STxG5zr_01NW",
        "colab_type": "code",
        "colab": {}
      },
      "source": [
        "from tensorflow.keras.models import Sequential, Model\n",
        "from tensorflow.keras.layers import SimpleRNN, Dense, Dropout, BatchNormalization, Input\n",
        "from tensorflow.keras.layers import LSTM, GRU, Conv1D, MaxPooling1D, Flatten\n",
        "from tensorflow.keras.layers import Masking, Embedding"
      ],
      "execution_count": 0,
      "outputs": []
    },
    {
      "cell_type": "code",
      "metadata": {
        "id": "IQYD9UiG1ASf",
        "colab_type": "code",
        "colab": {}
      },
      "source": [
        "model = Sequential()\n",
        "\n",
        "model.add(Masking(mask_value=0., input_shape=(250, 1)))\n",
        "\n",
        "model.add(Conv1D(filters=8, kernel_size=4, activation='relu'))\n",
        "\n",
        "model.add(Dropout(0.5))\n",
        "model.add(BatchNormalization())\n",
        "model.add(MaxPooling1D(pool_size=2))\n",
        "\n",
        "model.add(Conv1D(filters=8, kernel_size=8, activation='relu'))\n",
        "\n",
        "model.add(Dropout(0.5))\n",
        "model.add(BatchNormalization())\n",
        "\n",
        "model.add(Conv1D(filters=8, kernel_size=8, activation='relu'))\n",
        "\n",
        "model.add(Dropout(0.5))\n",
        "model.add(MaxPooling1D(pool_size=2))\n",
        "\n",
        "model.add(Flatten())\n",
        "\n",
        "# model.add(Masking(mask_value=0., input_shape=(250,)))\n",
        "\n",
        "# model.add(Embedding(vocab, 8, input_length=None)) \n",
        "\n",
        "# model.add(BatchNormalization())\n",
        "# model.add(GRU(128, return_sequences = True))\n",
        "# model.add(GRU(128, return_sequences = True))\n",
        "# model.add(GRU(16, return_sequences = True))\n",
        "# model.add(GRU(16))\n",
        "\n",
        "model.add(Dense(64, activation = 'relu'))\n",
        "model.add(Dropout(0.5))\n",
        "\n",
        "model.add(Dense(32, activation = 'relu'))\n",
        "model.add(Dropout(0.5))\n",
        "\n",
        "model.add(Dense(8, activation = 'relu'))\n",
        "model.add(Dropout(0.5))\n",
        "\n",
        "model.add(Dense(1, activation = 'sigmoid'))\n",
        "\n",
        "model.compile(optimizer = 'adam', loss = 'binary_crossentropy', metrics = ['accuracy'])"
      ],
      "execution_count": 0,
      "outputs": []
    },
    {
      "cell_type": "code",
      "metadata": {
        "id": "f8mVhyrlJX1U",
        "colab_type": "code",
        "colab": {}
      },
      "source": [
        "# use weighted classes when data is not undersampled\n",
        "from sklearn.utils import class_weight\n",
        "\n",
        "class_weights = class_weight.compute_class_weight('balanced',\n",
        "                                                 np.unique(y_train),\n",
        "                                                 y_train)"
      ],
      "execution_count": 0,
      "outputs": []
    },
    {
      "cell_type": "code",
      "metadata": {
        "id": "33BXPbHz2LP5",
        "colab_type": "code",
        "outputId": "c0204167-26d1-4d77-f31e-f533c458f445",
        "colab": {
          "base_uri": "https://localhost:8080/",
          "height": 441
        }
      },
      "source": [
        "model.fit(X_train[:,:,np.newaxis], y_train,\n",
        "          batch_size = 128, epochs = 10, class_weight=class_weights,\n",
        "          verbose = 1)"
      ],
      "execution_count": 321,
      "outputs": [
        {
          "output_type": "stream",
          "text": [
            "Train on 585545 samples\n",
            "Epoch 1/10\n",
            "585545/585545 [==============================] - 43s 73us/sample - loss: 0.1066 - acc: 0.9589\n",
            "Epoch 2/10\n",
            " 84352/585545 [===>..........................] - ETA: 36s - loss: 0.0376 - acc: 0.9888"
          ],
          "name": "stdout"
        },
        {
          "output_type": "error",
          "ename": "KeyboardInterrupt",
          "evalue": "ignored",
          "traceback": [
            "\u001b[0;31m---------------------------------------------------------------------------\u001b[0m",
            "\u001b[0;31mKeyboardInterrupt\u001b[0m                         Traceback (most recent call last)",
            "\u001b[0;32m<ipython-input-321-e8b4476e45e9>\u001b[0m in \u001b[0;36m<module>\u001b[0;34m()\u001b[0m\n\u001b[1;32m      1\u001b[0m model.fit(X_train[:,:,np.newaxis], y_train,\n\u001b[1;32m      2\u001b[0m           \u001b[0mbatch_size\u001b[0m \u001b[0;34m=\u001b[0m \u001b[0;36m128\u001b[0m\u001b[0;34m,\u001b[0m \u001b[0mepochs\u001b[0m \u001b[0;34m=\u001b[0m \u001b[0;36m10\u001b[0m\u001b[0;34m,\u001b[0m \u001b[0mclass_weight\u001b[0m\u001b[0;34m=\u001b[0m\u001b[0mclass_weights\u001b[0m\u001b[0;34m,\u001b[0m\u001b[0;34m\u001b[0m\u001b[0;34m\u001b[0m\u001b[0m\n\u001b[0;32m----> 3\u001b[0;31m           verbose = 1)\n\u001b[0m",
            "\u001b[0;32m/usr/local/lib/python3.6/dist-packages/tensorflow_core/python/keras/engine/training.py\u001b[0m in \u001b[0;36mfit\u001b[0;34m(self, x, y, batch_size, epochs, verbose, callbacks, validation_split, validation_data, shuffle, class_weight, sample_weight, initial_epoch, steps_per_epoch, validation_steps, validation_freq, max_queue_size, workers, use_multiprocessing, **kwargs)\u001b[0m\n\u001b[1;32m    725\u001b[0m         \u001b[0mmax_queue_size\u001b[0m\u001b[0;34m=\u001b[0m\u001b[0mmax_queue_size\u001b[0m\u001b[0;34m,\u001b[0m\u001b[0;34m\u001b[0m\u001b[0;34m\u001b[0m\u001b[0m\n\u001b[1;32m    726\u001b[0m         \u001b[0mworkers\u001b[0m\u001b[0;34m=\u001b[0m\u001b[0mworkers\u001b[0m\u001b[0;34m,\u001b[0m\u001b[0;34m\u001b[0m\u001b[0;34m\u001b[0m\u001b[0m\n\u001b[0;32m--> 727\u001b[0;31m         use_multiprocessing=use_multiprocessing)\n\u001b[0m\u001b[1;32m    728\u001b[0m \u001b[0;34m\u001b[0m\u001b[0m\n\u001b[1;32m    729\u001b[0m   def evaluate(self,\n",
            "\u001b[0;32m/usr/local/lib/python3.6/dist-packages/tensorflow_core/python/keras/engine/training_arrays.py\u001b[0m in \u001b[0;36mfit\u001b[0;34m(self, model, x, y, batch_size, epochs, verbose, callbacks, validation_split, validation_data, shuffle, class_weight, sample_weight, initial_epoch, steps_per_epoch, validation_steps, validation_freq, **kwargs)\u001b[0m\n\u001b[1;32m    673\u001b[0m         \u001b[0mvalidation_steps\u001b[0m\u001b[0;34m=\u001b[0m\u001b[0mvalidation_steps\u001b[0m\u001b[0;34m,\u001b[0m\u001b[0;34m\u001b[0m\u001b[0;34m\u001b[0m\u001b[0m\n\u001b[1;32m    674\u001b[0m         \u001b[0mvalidation_freq\u001b[0m\u001b[0;34m=\u001b[0m\u001b[0mvalidation_freq\u001b[0m\u001b[0;34m,\u001b[0m\u001b[0;34m\u001b[0m\u001b[0;34m\u001b[0m\u001b[0m\n\u001b[0;32m--> 675\u001b[0;31m         steps_name='steps_per_epoch')\n\u001b[0m\u001b[1;32m    676\u001b[0m \u001b[0;34m\u001b[0m\u001b[0m\n\u001b[1;32m    677\u001b[0m   def evaluate(self,\n",
            "\u001b[0;32m/usr/local/lib/python3.6/dist-packages/tensorflow_core/python/keras/engine/training_arrays.py\u001b[0m in \u001b[0;36mmodel_iteration\u001b[0;34m(model, inputs, targets, sample_weights, batch_size, epochs, verbose, callbacks, val_inputs, val_targets, val_sample_weights, shuffle, initial_epoch, steps_per_epoch, validation_steps, validation_freq, mode, validation_in_fit, prepared_feed_values_from_dataset, steps_name, **kwargs)\u001b[0m\n\u001b[1;32m    392\u001b[0m \u001b[0;34m\u001b[0m\u001b[0m\n\u001b[1;32m    393\u001b[0m         \u001b[0;31m# Get outputs.\u001b[0m\u001b[0;34m\u001b[0m\u001b[0;34m\u001b[0m\u001b[0;34m\u001b[0m\u001b[0m\n\u001b[0;32m--> 394\u001b[0;31m         \u001b[0mbatch_outs\u001b[0m \u001b[0;34m=\u001b[0m \u001b[0mf\u001b[0m\u001b[0;34m(\u001b[0m\u001b[0mins_batch\u001b[0m\u001b[0;34m)\u001b[0m\u001b[0;34m\u001b[0m\u001b[0;34m\u001b[0m\u001b[0m\n\u001b[0m\u001b[1;32m    395\u001b[0m         \u001b[0;32mif\u001b[0m \u001b[0;32mnot\u001b[0m \u001b[0misinstance\u001b[0m\u001b[0;34m(\u001b[0m\u001b[0mbatch_outs\u001b[0m\u001b[0;34m,\u001b[0m \u001b[0mlist\u001b[0m\u001b[0;34m)\u001b[0m\u001b[0;34m:\u001b[0m\u001b[0;34m\u001b[0m\u001b[0;34m\u001b[0m\u001b[0m\n\u001b[1;32m    396\u001b[0m           \u001b[0mbatch_outs\u001b[0m \u001b[0;34m=\u001b[0m \u001b[0;34m[\u001b[0m\u001b[0mbatch_outs\u001b[0m\u001b[0;34m]\u001b[0m\u001b[0;34m\u001b[0m\u001b[0;34m\u001b[0m\u001b[0m\n",
            "\u001b[0;32m/usr/local/lib/python3.6/dist-packages/tensorflow_core/python/keras/backend.py\u001b[0m in \u001b[0;36m__call__\u001b[0;34m(self, inputs)\u001b[0m\n\u001b[1;32m   3474\u001b[0m \u001b[0;34m\u001b[0m\u001b[0m\n\u001b[1;32m   3475\u001b[0m     fetched = self._callable_fn(*array_vals,\n\u001b[0;32m-> 3476\u001b[0;31m                                 run_metadata=self.run_metadata)\n\u001b[0m\u001b[1;32m   3477\u001b[0m     \u001b[0mself\u001b[0m\u001b[0;34m.\u001b[0m\u001b[0m_call_fetch_callbacks\u001b[0m\u001b[0;34m(\u001b[0m\u001b[0mfetched\u001b[0m\u001b[0;34m[\u001b[0m\u001b[0;34m-\u001b[0m\u001b[0mlen\u001b[0m\u001b[0;34m(\u001b[0m\u001b[0mself\u001b[0m\u001b[0;34m.\u001b[0m\u001b[0m_fetches\u001b[0m\u001b[0;34m)\u001b[0m\u001b[0;34m:\u001b[0m\u001b[0;34m]\u001b[0m\u001b[0;34m)\u001b[0m\u001b[0;34m\u001b[0m\u001b[0;34m\u001b[0m\u001b[0m\n\u001b[1;32m   3478\u001b[0m     output_structure = nest.pack_sequence_as(\n",
            "\u001b[0;32m/usr/local/lib/python3.6/dist-packages/tensorflow_core/python/client/session.py\u001b[0m in \u001b[0;36m__call__\u001b[0;34m(self, *args, **kwargs)\u001b[0m\n\u001b[1;32m   1470\u001b[0m         ret = tf_session.TF_SessionRunCallable(self._session._session,\n\u001b[1;32m   1471\u001b[0m                                                \u001b[0mself\u001b[0m\u001b[0;34m.\u001b[0m\u001b[0m_handle\u001b[0m\u001b[0;34m,\u001b[0m \u001b[0margs\u001b[0m\u001b[0;34m,\u001b[0m\u001b[0;34m\u001b[0m\u001b[0;34m\u001b[0m\u001b[0m\n\u001b[0;32m-> 1472\u001b[0;31m                                                run_metadata_ptr)\n\u001b[0m\u001b[1;32m   1473\u001b[0m         \u001b[0;32mif\u001b[0m \u001b[0mrun_metadata\u001b[0m\u001b[0;34m:\u001b[0m\u001b[0;34m\u001b[0m\u001b[0;34m\u001b[0m\u001b[0m\n\u001b[1;32m   1474\u001b[0m           \u001b[0mproto_data\u001b[0m \u001b[0;34m=\u001b[0m \u001b[0mtf_session\u001b[0m\u001b[0;34m.\u001b[0m\u001b[0mTF_GetBuffer\u001b[0m\u001b[0;34m(\u001b[0m\u001b[0mrun_metadata_ptr\u001b[0m\u001b[0;34m)\u001b[0m\u001b[0;34m\u001b[0m\u001b[0;34m\u001b[0m\u001b[0m\n",
            "\u001b[0;31mKeyboardInterrupt\u001b[0m: "
          ]
        }
      ]
    },
    {
      "cell_type": "markdown",
      "metadata": {
        "id": "2vNneiVPu5qg",
        "colab_type": "text"
      },
      "source": [
        "# Predictions"
      ]
    },
    {
      "cell_type": "code",
      "metadata": {
        "id": "uXi5UNxtySEU",
        "colab_type": "code",
        "colab": {}
      },
      "source": [
        "def classify_binary(pred):\n",
        "  pred[pred >= 0.5] = 1\n",
        "  pred[pred < 0.5] = 0\n",
        "\n",
        "  return pred"
      ],
      "execution_count": 0,
      "outputs": []
    },
    {
      "cell_type": "code",
      "metadata": {
        "id": "TJxfbfVh6uGn",
        "colab_type": "code",
        "colab": {}
      },
      "source": [
        "def calculate_tel_length(tel_num, bp = 100, coverage = 10):\n",
        "  tel_length = ((tel_num / coverage) * bp) / 2\n",
        "  return tel_length"
      ],
      "execution_count": 0,
      "outputs": []
    },
    {
      "cell_type": "markdown",
      "metadata": {
        "id": "S6CMKpSnMfAT",
        "colab_type": "text"
      },
      "source": [
        "Classification of the test set"
      ]
    },
    {
      "cell_type": "code",
      "metadata": {
        "id": "D-qsTNPyyi0K",
        "colab_type": "code",
        "colab": {}
      },
      "source": [
        "pred_class = model.predict(test_class[:,:,np.newaxis])"
      ],
      "execution_count": 0,
      "outputs": []
    },
    {
      "cell_type": "code",
      "metadata": {
        "id": "80uUyQBFK4Bd",
        "colab_type": "code",
        "outputId": "c454a65c-8471-4365-b2d1-dcccb9b73a51",
        "colab": {
          "base_uri": "https://localhost:8080/",
          "height": 34
        }
      },
      "source": [
        "np.sum(classify_binary(pred_class))"
      ],
      "execution_count": 272,
      "outputs": [
        {
          "output_type": "execute_result",
          "data": {
            "text/plain": [
              "45263.0"
            ]
          },
          "metadata": {
            "tags": []
          },
          "execution_count": 272
        }
      ]
    },
    {
      "cell_type": "code",
      "metadata": {
        "id": "Yj6hEB-wvFRl",
        "colab_type": "code",
        "colab": {}
      },
      "source": [
        "pred_class = classify_binary(pred_class)\n",
        "test_class_df['prediction'] = pred_class"
      ],
      "execution_count": 0,
      "outputs": []
    },
    {
      "cell_type": "markdown",
      "metadata": {
        "id": "IcpYdCj9MlvX",
        "colab_type": "text"
      },
      "source": [
        "Predictions for the mixed set"
      ]
    },
    {
      "cell_type": "code",
      "metadata": {
        "id": "Ygq5ErvsLapM",
        "colab_type": "code",
        "colab": {}
      },
      "source": [
        "pred_mixed = model.predict(test_mixed[:,:,np.newaxis])"
      ],
      "execution_count": 0,
      "outputs": []
    },
    {
      "cell_type": "code",
      "metadata": {
        "id": "T4E_Tll8IPiS",
        "colab_type": "code",
        "colab": {
          "base_uri": "https://localhost:8080/",
          "height": 34
        },
        "outputId": "efda443c-2f9c-4f45-fdd8-f00d14c7dce1"
      },
      "source": [
        "pred_mixed_len = np.sum(classify_binary(pred_mixed))\n",
        "pred_mixed_len"
      ],
      "execution_count": 323,
      "outputs": [
        {
          "output_type": "execute_result",
          "data": {
            "text/plain": [
              "637.0"
            ]
          },
          "metadata": {
            "tags": []
          },
          "execution_count": 323
        }
      ]
    },
    {
      "cell_type": "code",
      "metadata": {
        "id": "6wSbxkPQfqto",
        "colab_type": "code",
        "outputId": "34e35adf-4281-48c9-d1ad-e36719f20f5f",
        "colab": {
          "base_uri": "https://localhost:8080/",
          "height": 34
        }
      },
      "source": [
        "calculate_tel_length(pred_mixed_len)\n",
        "# 3262"
      ],
      "execution_count": 324,
      "outputs": [
        {
          "output_type": "execute_result",
          "data": {
            "text/plain": [
              "3185.0"
            ]
          },
          "metadata": {
            "tags": []
          },
          "execution_count": 324
        }
      ]
    },
    {
      "cell_type": "code",
      "metadata": {
        "id": "g7Fre3hrK76H",
        "colab_type": "code",
        "colab": {
          "base_uri": "https://localhost:8080/",
          "height": 34
        },
        "outputId": "add27e43-4984-4f65-b388-1ca2e31ad2be"
      },
      "source": [
        "pred_mixed_test = model.predict(test_mixed_test[:,:,np.newaxis])\n",
        "\n",
        "calculate_tel_length(np.sum(classify_binary(pred_mixed_test)))"
      ],
      "execution_count": 325,
      "outputs": [
        {
          "output_type": "execute_result",
          "data": {
            "text/plain": [
              "170.0"
            ]
          },
          "metadata": {
            "tags": []
          },
          "execution_count": 325
        }
      ]
    },
    {
      "cell_type": "code",
      "metadata": {
        "id": "6fPKcSnKz4xv",
        "colab_type": "code",
        "colab": {}
      },
      "source": [
        "def predict_mixed(dir_path):\n",
        "  directory = os.fsencode(dir_path)\n",
        "  \n",
        "  length_dict = {}\n",
        "\n",
        "  for file in tqdm(os.listdir(directory)):\n",
        "    filename = os.fsdecode(file)\n",
        "    \n",
        "    if filename.endswith(\".fq\"):\n",
        "      temp_df = pd.DataFrame(read_fq(dir_path + '/' + filename))\n",
        "      temp = tokenize_pad(temp_df['sequence'], 5, 250)\n",
        "      pred = model.predict(temp[:,:,np.newaxis])\n",
        "      pred = classify_binary(pred)\n",
        "      length = calculate_tel_length(np.sum(pred))\n",
        "      length_dict[filename] = length\n",
        "    else:\n",
        "      continue\n",
        "    \n",
        "  return length_dict"
      ],
      "execution_count": 0,
      "outputs": []
    },
    {
      "cell_type": "code",
      "metadata": {
        "id": "WQP_XWsP_UI5",
        "colab_type": "code",
        "colab": {}
      },
      "source": [
        "cnn_pred_lengths = predict_mixed(data_path + '/Test/test_mixed')"
      ],
      "execution_count": 0,
      "outputs": []
    },
    {
      "cell_type": "code",
      "metadata": {
        "id": "UpYK15vTAOB2",
        "colab_type": "code",
        "colab": {
          "base_uri": "https://localhost:8080/",
          "height": 34
        },
        "outputId": "f56325a1-1675-42ea-f290-acc66a946f1d"
      },
      "source": [
        "cnn_pred_lengths.popitem()"
      ],
      "execution_count": 250,
      "outputs": [
        {
          "output_type": "execute_result",
          "data": {
            "text/plain": [
              "('file_143_hs10_100bp_10x_chr2.fq', 25.0)"
            ]
          },
          "metadata": {
            "tags": []
          },
          "execution_count": 250
        }
      ]
    }
  ]
}